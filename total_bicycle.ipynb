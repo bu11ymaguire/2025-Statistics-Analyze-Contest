{
  "nbformat": 4,
  "nbformat_minor": 0,
  "metadata": {
    "colab": {
      "provenance": []
    },
    "kernelspec": {
      "name": "python3",
      "display_name": "Python 3"
    },
    "language_info": {
      "name": "python"
    }
  },
  "cells": [
    {
      "cell_type": "code",
      "execution_count": 1,
      "metadata": {
        "colab": {
          "base_uri": "https://localhost:8080/"
        },
        "id": "hs8eaoFihxVk",
        "outputId": "b8e3d5fe-0067-45b8-b9a9-a0fa153cd005"
      },
      "outputs": [
        {
          "output_type": "stream",
          "name": "stdout",
          "text": [
            "Mounted at /content/drive\n"
          ]
        }
      ],
      "source": [
        "#디렉토리 경로에 따라서 원하는 연도를 바꿀 수 있음.\n",
        "#한번에 모든 연도를 다 다루려고 하니까 잘 안되어서 부득이하게 연도별로 나눠서 총 3번 진행함....\n",
        "import pandas as pd\n",
        "from google.colab import drive\n",
        "drive.mount('/content/drive')\n",
        "import glob  # 파일 경로를 쉽게 다루기 위한 라이브러리\n",
        "import os    # 운영체제와 상호작용하기 위한 라이브러리"
      ]
    },
    {
      "cell_type": "code",
      "source": [
        "file_paths = [\n",
        "    '/content/drive/MyDrive/코드_아웃풋/대여소별_이용건수_2021.csv',\n",
        "    '/content/drive/MyDrive/코드_아웃풋/대여소별_이용건수_2022.csv',\n",
        "    '/content/drive/MyDrive/코드_아웃풋/대여소별_이용건수_2023.csv'\n",
        "]\n",
        "\n",
        "# 모든 데이터를 담을 빈 DataFrame 생성\n",
        "all_data = pd.DataFrame()\n",
        "\n",
        "# 각 파일을 읽어들여 all_data에 추가\n",
        "for file in file_paths:\n",
        "    df = pd.read_csv(file)\n",
        "    all_data = pd.concat([all_data, df], ignore_index=True)\n",
        "\n",
        "# '대여소번호'를 '대여소 아이디'로 변경\n",
        "all_data = all_data.rename(columns={'대여소번호': '대여소 아이디'})\n",
        "\n",
        "# '대여소 아이디'를 기준으로 'count' 값을 합산하여 'total' 생성\n",
        "대여소_아이디_total = all_data.groupby('대여소 아이디')['count'].sum().reset_index()\n",
        "대여소_아이디_total = 대여소_아이디_total.rename(columns={'count': 'total'})\n",
        "\n",
        "# 결과 출력 (상위 5개)\n",
        "print(대여소_아이디_total.head())\n",
        "\n",
        "# 특정 대여소 아이디의 total 값 확인 (예시: 대여소 아이디 2715)\n",
        "# print(대여소_아이디_total[대여소_아이디_total['대여소 아이디'] == 2715])\n",
        "\n",
        "대여소_아이디_total.to_csv('대여소별_총이용건수.csv', index=False)\n",
        "\n",
        "print(\"대여소별_총이용건수.csv 파일이 성공적으로 생성되었습니다.\")"
      ],
      "metadata": {
        "colab": {
          "base_uri": "https://localhost:8080/"
        },
        "id": "PRv9cz2ziL-p",
        "outputId": "4f398515-cfcc-4d52-a853-2dd4866caeaa"
      },
      "execution_count": 4,
      "outputs": [
        {
          "output_type": "stream",
          "name": "stdout",
          "text": [
            "   대여소 아이디  total\n",
            "0        3    336\n",
            "1        5    153\n",
            "2       10    126\n",
            "3       11     28\n",
            "4      101    329\n",
            "대여소별_총이용건수.csv 파일이 성공적으로 생성되었습니다.\n"
          ]
        }
      ]
    },
    {
      "cell_type": "code",
      "source": [],
      "metadata": {
        "id": "4yjlwZXAiM1n"
      },
      "execution_count": null,
      "outputs": []
    }
  ]
}