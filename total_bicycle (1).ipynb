{
  "nbformat": 4,
  "nbformat_minor": 0,
  "metadata": {
    "colab": {
      "provenance": []
    },
    "kernelspec": {
      "name": "python3",
      "display_name": "Python 3"
    },
    "language_info": {
      "name": "python"
    }
  },
  "cells": [
    {
      "cell_type": "code",
      "execution_count": 4,
      "metadata": {
        "colab": {
          "base_uri": "https://localhost:8080/"
        },
        "id": "hs8eaoFihxVk",
        "outputId": "0fa1864b-fef4-4337-b7f1-fc13c68f18fd"
      },
      "outputs": [
        {
          "output_type": "stream",
          "name": "stdout",
          "text": [
            "Drive already mounted at /content/drive; to attempt to forcibly remount, call drive.mount(\"/content/drive\", force_remount=True).\n"
          ]
        }
      ],
      "source": [
        "#디렉토리 경로에 따라서 원하는 연도를 바꿀 수 있음.\n",
        "#한번에 모든 연도를 다 다루려고 하니까 잘 안되어서 부득이하게 연도별로 나눠서 총 3번 진행함....\n",
        "import pandas as pd\n",
        "from google.colab import drive\n",
        "drive.mount('/content/drive')\n",
        "import glob  # 파일 경로를 쉽게 다루기 위한 라이브러리\n",
        "import os    # 운영체제와 상호작용하기 위한 라이브러리"
      ]
    },
    {
      "cell_type": "code",
      "source": [
        "import pandas as pd\n",
        "\n",
        "# 1. 파일 경로를 올바르게 수정 ('MyDrice' -> 'MyDrive')\n",
        "file_paths = [\n",
        "    '/content/drive/MyDrive/코드_아웃풋/대여소별_이용건수_2021.csv',\n",
        "    '/content/drive/MyDrive/코드_아웃풋/대여소별_이용건수_2022.csv',\n",
        "    '/content/drive/MyDrive/코드_아웃풋/대여소별_이용건수_2023.csv'\n",
        "]\n",
        "\n",
        "# 모든 데이터를 담을 빈 리스트 생성 (concat 성능을 위해 리스트 사용 후 한번에 합침)\n",
        "all_dfs = []\n",
        "\n",
        "# 2. 각 파일을 읽어들여 all_dfs 리스트에 추가\n",
        "for file in file_paths:\n",
        "    # (중요) thousands=',' 옵션을 추가하여 쉼표가 있는 숫자를 올바르게 읽음\n",
        "    df = pd.read_csv(file, thousands=',')\n",
        "    all_dfs.append(df)\n",
        "\n",
        "# 리스트에 있는 모든 데이터프레임을 하나로 합침\n",
        "all_data = pd.concat(all_dfs, ignore_index=True)\n",
        "\n",
        "\n",
        "# 3. 데이터 처리\n",
        "# 컬럼 이름이 '대여소번호'일 경우 '대여소 아이디'로 변경\n",
        "if '대여소번호' in all_data.columns:\n",
        "    all_data = all_data.rename(columns={'대여소번호': '대여소 아이디'})\n",
        "\n",
        "# '대여소 아이디'를 기준으로 'count' 값을 합산\n",
        "# .reset_index()를 사용해 그룹화된 결과를 다시 데이터프레임으로 변환\n",
        "대여소_아이디_total = all_data.groupby('대여소 아이디')['count'].sum().reset_index()\n",
        "\n",
        "# 합산된 'count' 컬럼의 이름을 'total'로 변경\n",
        "대여소_아이디_total = 대여소_아이디_total.rename(columns={'count': 'total'})\n",
        "\n",
        "\n",
        "# 4. 결과 확인 및 저장\n",
        "# 통합 및 계산된 결과 확인 (이용 건수가 가장 많은 상위 10개)\n",
        "print(\"--- 3개년 통합 대여소별 이용건수 (상위 10개) ---\")\n",
        "print(대여소_아이디_total.sort_values(by='total', ascending=False).head(10))\n",
        "\n",
        "# 최종 결과를 csv 파일로 저장\n",
        "output_filename = '대여소별_총이용건수(3개년통합).csv'\n",
        "대여소_아이디_total.to_csv(output_filename, index=False)\n",
        "\n",
        "print(f\"\\n'{output_filename}' 파일이 현재 Colab 세션에 성공적으로 생성되었습니다.\")\n",
        "print(\"왼쪽 파일 탐색기에서 새로고침 후 확인하세요.\")"
      ],
      "metadata": {
        "colab": {
          "base_uri": "https://localhost:8080/"
        },
        "id": "PRv9cz2ziL-p",
        "outputId": "66bec47a-8709-4e8d-984b-d1ca50cac57c"
      },
      "execution_count": 6,
      "outputs": [
        {
          "output_type": "stream",
          "name": "stdout",
          "text": [
            "--- 3개년 통합 대여소별 이용건수 (상위 10개) ---\n",
            "      대여소 아이디   total\n",
            "1838     2715  242858\n",
            "358       502  225907\n",
            "99        207  205382\n",
            "1472     2102  205066\n",
            "897      1210  192710\n",
            "2388     4217  187455\n",
            "847      1153  181621\n",
            "1515     2177  177740\n",
            "1354     1911  172244\n",
            "120       230  167402\n",
            "\n",
            "'대여소별_총이용건수(3개년통합).csv' 파일이 현재 Colab 세션에 성공적으로 생성되었습니다.\n",
            "왼쪽 파일 탐색기에서 새로고침 후 확인하세요.\n"
          ]
        }
      ]
    },
    {
      "cell_type": "code",
      "source": [],
      "metadata": {
        "id": "4yjlwZXAiM1n"
      },
      "execution_count": null,
      "outputs": []
    }
  ]
}